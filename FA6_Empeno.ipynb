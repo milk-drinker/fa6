{
 "cells": [
  {
   "cell_type": "code",
   "execution_count": 3,
   "metadata": {},
   "outputs": [
    {
     "name": "stdout",
     "output_type": "stream",
     "text": [
      "342882754299605542703496015699200579379649539745770754382000124278512336359979559197823481221022674600830295333617006984059886491421540493951506482390354393725906168794375391533474387361995876540094533828897487199474622120556760561893297406274466013266278287285969349365133754612883980378790581378220032\n",
      "0.0\n"
     ]
    }
   ],
   "source": [
    "import time\n",
    "\n",
    "def recursion_exponent(base, exponent):\n",
    "    if exponent == 0:\n",
    "        return 1\n",
    "    elif exponent % 2 == 0:\n",
    "        subproblem = recursion_exponent(base, exponent // 2)\n",
    "        return subproblem * subproblem\n",
    "    else:\n",
    "        subproblem = recursion_exponent(base, (exponent - 1) // 2)\n",
    "        return base * subproblem * subproblem\n",
    "\n",
    "\n",
    "start_timeA = time.time()\n",
    "print(recursion_exponent(2,1005))\n",
    "end_timeA = time.time()\n",
    "rendering_timeA = end_timeA - start_timeA\n",
    "print(rendering_timeA)"
   ]
  },
  {
   "cell_type": "code",
   "execution_count": 4,
   "metadata": {},
   "outputs": [
    {
     "name": "stdout",
     "output_type": "stream",
     "text": [
      "342882754299605542703496015699200579379649539745770754382000124278512336359979559197823481221022674600830295333617006984059886491421540493951506482390354393725906168794375391533474387361995876540094533828897487199474622120556760561893297406274466013266278287285969349365133754612883980378790581378220032\n",
      "0.0009963512420654297\n"
     ]
    }
   ],
   "source": [
    "def iteration_Exponent(base, exponent):\n",
    "    power = base\n",
    "    if exponent >= 1 :\n",
    "        while exponent > 1:\n",
    "            power *= base\n",
    "            exponent -= 1\n",
    "        return power\n",
    "    elif exponent == 0:\n",
    "        return power\n",
    "\n",
    "start_timeB = time.time()\n",
    "print(iteration_Exponent(2,1005))\n",
    "end_timeB = time.time()\n",
    "rendering_timeB = end_timeB - start_timeB\n",
    "print(rendering_timeB)"
   ]
  },
  {
   "cell_type": "code",
   "execution_count": 7,
   "metadata": {},
   "outputs": [],
   "source": [
    "def iteration_sum(exponent):\n",
    "    start_time = time.time()\n",
    "    result = 0\n",
    "    while exponent >= 0:\n",
    "        result += 2**exponent\n",
    "        exponent -= 1\n",
    "    end_time = time.time()\n",
    "    rendering_time = end_time - start_time\n",
    "    return result, rendering_time\n",
    "\n",
    "def recursive_sum(exponent):\n",
    "    if exponent == 0:\n",
    "        return 1\n",
    "    else:\n",
    "        return 2**exponent + recursive_sum(exponent-1)"
   ]
  },
  {
   "cell_type": "code",
   "execution_count": 14,
   "metadata": {},
   "outputs": [
    {
     "name": "stdout",
     "output_type": "stream",
     "text": [
      "Recursive result: 6546781215792283740026379393655198304433284092086129578966582736192267592809349109766540184651808314301773368255120142018434513091770786106657055178751, rendering time: 0.0035049915313720703\n",
      "Iteration result: 6546781215792283740026379393655198304433284092086129578966582736192267592809349109766540184651808314301773368255120142018434513091770786106657055178751, rendering time: 0.001981496810913086\n"
     ]
    }
   ],
   "source": [
    "n = 500\n",
    "start_timeA = time.time()\n",
    "recursion = recursive_sum(n)\n",
    "end_timeA = time.time()\n",
    "run_timeA = end_timeA - start_timeA\n",
    "\n",
    "result_iterative, rendering_time_iterative = iteration_sum(n)\n",
    "\n",
    "print(f\"Recursive result: {recursion}, rendering time: {run_timeA}\")\n",
    "print(f\"Iteration result: {result_iterative}, rendering time: {rendering_time_iterative}\")"
   ]
  },
  {
   "cell_type": "code",
   "execution_count": null,
   "metadata": {},
   "outputs": [],
   "source": []
  }
 ],
 "metadata": {
  "kernelspec": {
   "display_name": "Python 3",
   "language": "python",
   "name": "python3"
  },
  "language_info": {
   "codemirror_mode": {
    "name": "ipython",
    "version": 3
   },
   "file_extension": ".py",
   "mimetype": "text/x-python",
   "name": "python",
   "nbconvert_exporter": "python",
   "pygments_lexer": "ipython3",
   "version": "3.7.0"
  }
 },
 "nbformat": 4,
 "nbformat_minor": 2
}
